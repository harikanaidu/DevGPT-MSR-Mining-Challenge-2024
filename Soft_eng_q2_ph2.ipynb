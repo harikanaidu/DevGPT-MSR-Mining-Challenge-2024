{
 "cells": [
  {
   "cell_type": "code",
   "execution_count": 1,
   "metadata": {},
   "outputs": [
    {
     "name": "stderr",
     "output_type": "stream",
     "text": [
      "[nltk_data] Downloading package punkt to /Users/ataman/nltk_data...\n",
      "[nltk_data]   Package punkt is already up-to-date!\n",
      "[nltk_data] Downloading package stopwords to\n",
      "[nltk_data]     /Users/ataman/nltk_data...\n",
      "[nltk_data]   Package stopwords is already up-to-date!\n"
     ]
    },
    {
     "data": {
      "text/plain": [
       "True"
      ]
     },
     "execution_count": 1,
     "metadata": {},
     "output_type": "execute_result"
    }
   ],
   "source": [
    "import re\n",
    "import string\n",
    "from nltk.corpus import stopwords\n",
    "from nltk.stem import PorterStemmer\n",
    "from nltk.tokenize import word_tokenize\n",
    "from sklearn.feature_extraction.text import TfidfVectorizer\n",
    "from sklearn.metrics.pairwise import cosine_similarity\n",
    "from textblob import TextBlob\n",
    "import pandas as pd\n",
    "import nltk\n",
    "import json\n",
    "nltk.download('punkt')\n",
    "nltk.download('stopwords')"
   ]
  },
  {
   "cell_type": "code",
   "execution_count": 2,
   "metadata": {},
   "outputs": [],
   "source": [
    "file_paths = [\n",
    "    \"/Users/ataman/Downloads/soft_eng_data/20230810_123110_pr_sharings.json\",\n",
    "    \"/Users/ataman/Downloads/soft_eng_data/20230810_123938_issue_sharings.json\",\n",
    "    \"/Users/ataman/Downloads/soft_eng_data/20230810_124048_discussion_sharings.json\",\n",
    "    \"/Users/ataman/Downloads/soft_eng_data/20230810_124807_commit_sharings.json\",\n",
    "    \"/Users/ataman/Downloads/soft_eng_data/20230810_133121_file_sharings.json\",\n",
    "    \"/Users/ataman/Downloads/soft_eng_data/20230810_134011_hn_sharings.json\"\n",
    "]\n",
    "\n",
    "\n"
   ]
  },
  {
   "cell_type": "code",
   "execution_count": 3,
   "metadata": {},
   "outputs": [],
   "source": [
    "\n",
    "\n",
    "\n",
    "def preprocess(text):\n",
    "    text = text.lower()\n",
    "    text = text.translate(str.maketrans('', '', string.punctuation))\n",
    "    text = re.sub(r'\\d+', '', text)\n",
    "    words = word_tokenize(text)\n",
    "    words = [word for word in words if word not in stopwords.words('english')]\n",
    "    stemmer = PorterStemmer()\n",
    "    words = [stemmer.stem(word) for word in words]\n",
    "    text = ' '.join(words)\n",
    "    return text\n"
   ]
  },
  {
   "cell_type": "code",
   "execution_count": 4,
   "metadata": {},
   "outputs": [
    {
     "name": "stdout",
     "output_type": "stream",
     "text": [
      "File exists: /Users/ataman/Downloads/soft_eng_data/20230810_123110_pr_sharings.json\n",
      "File exists: /Users/ataman/Downloads/soft_eng_data/20230810_123938_issue_sharings.json\n",
      "File exists: /Users/ataman/Downloads/soft_eng_data/20230810_124048_discussion_sharings.json\n",
      "File exists: /Users/ataman/Downloads/soft_eng_data/20230810_124807_commit_sharings.json\n",
      "File exists: /Users/ataman/Downloads/soft_eng_data/20230810_133121_file_sharings.json\n",
      "File exists: /Users/ataman/Downloads/soft_eng_data/20230810_134011_hn_sharings.json\n"
     ]
    }
   ],
   "source": [
    "import os\n",
    "\n",
    "for file_path in file_paths:\n",
    "    if not os.path.isfile(file_path):\n",
    "        print(f\"File not found: {file_path}\")\n",
    "    else:\n",
    "        print(f\"File exists: {file_path}\")\n"
   ]
  },
  {
   "cell_type": "code",
   "execution_count": 5,
   "metadata": {},
   "outputs": [],
   "source": [
    "\n",
    "all_conversations = []\n",
    "\n",
    "\n",
    "for file_path in file_paths:\n",
    "    with open(file_path, 'r') as file:\n",
    "        data = json.load(file)['Sources']\n",
    "        for source in data:\n",
    "            for chatgpt_sharing in source.get('ChatgptSharing', []):\n",
    "                conversation = []\n",
    "                for interaction in chatgpt_sharing.get('Conversations', []):\n",
    "                    prompt = interaction.get('Prompt', '')\n",
    "                    answer = interaction.get('Answer', '')\n",
    "                    if prompt and answer:\n",
    "                        conversation.append({'prompt': prompt, 'answer': answer})\n",
    "                if conversation:\n",
    "                    all_conversations.append(conversation)\n"
   ]
  },
  {
   "cell_type": "code",
   "execution_count": 6,
   "metadata": {},
   "outputs": [],
   "source": [
    "\n",
    "vectorizer = TfidfVectorizer(preprocessor=preprocess)\n",
    "initial_prompts = [conversation[0]['prompt'] for conversation in all_conversations]\n",
    "initial_vectors = vectorizer.fit_transform(initial_prompts)\n"
   ]
  },
  {
   "cell_type": "code",
   "execution_count": 7,
   "metadata": {},
   "outputs": [],
   "source": [
    "\n",
    "for i, conversation in enumerate(all_conversations):\n",
    "    initial_vector = initial_vectors[i:i+1]  \n",
    "    follow_up_texts = [interaction['prompt'] for interaction in conversation[1:]]\n",
    "    related_follow_ups = 0\n",
    "    new_queries = 0\n",
    "    \n",
    "    if follow_up_texts:\n",
    "        follow_up_vectors = vectorizer.transform(follow_up_texts)\n",
    "        similarities = cosine_similarity(follow_up_vectors, initial_vector).flatten()\n",
    "\n",
    "        \n",
    "        threshold = 0.5\n",
    "        related_follow_ups = (similarities >= threshold).sum()\n",
    "        new_queries = (similarities < threshold).sum()\n",
    "\n",
    "   \n",
    "    conversation[0]['related_follow_ups'] = related_follow_ups\n",
    "    conversation[0]['new_queries'] = new_queries\n"
   ]
  },
  {
   "cell_type": "code",
   "execution_count": null,
   "metadata": {},
   "outputs": [],
   "source": [
    "\n",
    "for conversation in all_conversations:\n",
    "    initial_prompt = conversation[0]['prompt']\n",
    "    analysis = TextBlob(initial_prompt)\n",
    "    sentiment = analysis.sentiment.polarity\n",
    "    subjectivity = analysis.sentiment.subjectivity\n",
    "    conversation[0]['sentiment'] = sentiment\n",
    "    conversation[0]['subjectivity'] = subjectivity\n"
   ]
  },
  {
   "cell_type": "code",
   "execution_count": null,
   "metadata": {},
   "outputs": [],
   "source": [
    "\n",
    "data = {\n",
    "    'initial_query': [],\n",
    "    'sentiment': [],\n",
    "    'subjectivity': [],\n",
    "    'related_follow_ups': [],\n",
    "    'new_queries': []\n",
    "}\n",
    "\n",
    "for conversation in all_conversations:\n",
    "    data['initial_query'].append(conversation[0]['prompt'])\n",
    "    data['sentiment'].append(conversation[0]['sentiment'])\n",
    "    data['subjectivity'].append(conversation[0]['subjectivity'])\n",
    "    data['related_follow_ups'].append(conversation[0]['related_follow_ups'])\n",
    "    data['new_queries'].append(conversation[0]['new_queries'])\n",
    "\n",
    "df = pd.DataFrame(data)\n"
   ]
  },
  {
   "cell_type": "code",
   "execution_count": null,
   "metadata": {},
   "outputs": [],
   "source": [
    "\n",
    "average_sentiment = df['sentiment'].mean()\n",
    "average_subjectivity = df['subjectivity'].mean()\n",
    "average_related_follow_ups = df['related_follow_ups'].mean()\n",
    "average_new_queries = df['new_queries'].mean()\n",
    "\n",
    "print(f\"Average Sentiment: {average_sentiment}\")\n",
    "print(f\"Average Subjectivity: {average_subjectivity}\")\n",
    "print(f\"Average Number of Related Follow-Ups: {average_related_follow_ups}\")\n",
    "print(f\"Average Number of New Queries: {average_new_queries}\")\n"
   ]
  }
 ],
 "metadata": {
  "kernelspec": {
   "display_name": "base",
   "language": "python",
   "name": "python3"
  },
  "language_info": {
   "codemirror_mode": {
    "name": "ipython",
    "version": 3
   },
   "file_extension": ".py",
   "mimetype": "text/x-python",
   "name": "python",
   "nbconvert_exporter": "python",
   "pygments_lexer": "ipython3",
   "version": "3.9.13"
  }
 },
 "nbformat": 4,
 "nbformat_minor": 2
}
