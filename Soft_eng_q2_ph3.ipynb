{
 "cells": [
  {
   "cell_type": "code",
   "execution_count": 41,
   "metadata": {},
   "outputs": [
    {
     "name": "stderr",
     "output_type": "stream",
     "text": [
      "[nltk_data] Downloading package punkt to /Users/ataman/nltk_data...\n",
      "[nltk_data]   Package punkt is already up-to-date!\n",
      "[nltk_data] Downloading package stopwords to\n",
      "[nltk_data]     /Users/ataman/nltk_data...\n",
      "[nltk_data]   Package stopwords is already up-to-date!\n"
     ]
    },
    {
     "data": {
      "text/plain": [
       "True"
      ]
     },
     "execution_count": 41,
     "metadata": {},
     "output_type": "execute_result"
    }
   ],
   "source": [
    "import re\n",
    "import string\n",
    "from nltk.corpus import stopwords\n",
    "from nltk.stem import PorterStemmer\n",
    "from nltk.tokenize import word_tokenize\n",
    "from sklearn.feature_extraction.text import TfidfVectorizer\n",
    "from sklearn.metrics.pairwise import cosine_similarity\n",
    "from textblob import TextBlob\n",
    "import pandas as pd\n",
    "import nltk\n",
    "import json\n",
    "nltk.download('punkt')\n",
    "nltk.download('stopwords')"
   ]
  },
  {
   "cell_type": "code",
   "execution_count": null,
   "metadata": {},
   "outputs": [],
   "source": []
  },
  {
   "cell_type": "code",
   "execution_count": 42,
   "metadata": {},
   "outputs": [],
   "source": [
    "file_paths = [\n",
    "    \"/Users/ataman/Downloads/soft_eng_data/20230727_195927_pr_sharings.json\",\n",
    "    \"/Users/ataman/Downloads/soft_eng_data/20230727_195941_issue_sharings.json\",\n",
    "    \"/Users/ataman/Downloads/soft_eng_data/20230727_195954_discussion_sharings.json\",\n",
    "    \"/Users/ataman/Downloads/soft_eng_data/20230727_200003_commit_sharings.json\",\n",
    "    \"/Users/ataman/Downloads/soft_eng_data/20230727_200102_file_sharings.json\",\n",
    "    \"/Users/ataman/Downloads/soft_eng_data/20230727_195816_hn_sharings.json\",\n",
    "    \"/Users/ataman/Downloads/soft_eng_data/20230803_093947_pr_sharings.json\",\n",
    "    \"/Users/ataman/Downloads/soft_eng_data/20230803_094705_issue_sharings.json\",\n",
    "    \"/Users/ataman/Downloads/soft_eng_data/20230803_094811_discussion_sharings.json\",\n",
    "    \"/Users/ataman/Downloads/soft_eng_data/20230803_095317_commit_sharings.json\",\n",
    "    \"/Users/ataman/Downloads/soft_eng_data/20230803_103605_file_sharings.json\",\n",
    "    \"/Users/ataman/Downloads/soft_eng_data/20230803_105332_hn_sharings.json\",\n",
    "    \"/Users/ataman/Downloads/soft_eng_data/20230810_123110_pr_sharings.json\",\n",
    "    \"/Users/ataman/Downloads/soft_eng_data/20230810_123938_issue_sharings.json\",\n",
    "    \"/Users/ataman/Downloads/soft_eng_data/20230810_124048_discussion_sharings.json\",\n",
    "    \"/Users/ataman/Downloads/soft_eng_data/20230810_124807_commit_sharings.json\",\n",
    "    \"/Users/ataman/Downloads/soft_eng_data/20230810_133121_file_sharings.json\",\n",
    "    \"/Users/ataman/Downloads/soft_eng_data/20230810_134011_hn_sharings.json\",\n",
    "    \"/Users/ataman/Downloads/soft_eng_data/20230817_125147_pr_sharings.json\",\n",
    "    \"/Users/ataman/Downloads/soft_eng_data/20230817_130502_issue_sharings.json\",\n",
    "    \"/Users/ataman/Downloads/soft_eng_data/20230817_130721_discussion_sharings.json\",\n",
    "    \"/Users/ataman/Downloads/soft_eng_data/20230817_131244_commit_sharings.json\",\n",
    "    \"/Users/ataman/Downloads/soft_eng_data/20230817_151344_file_sharings.json\",\n",
    "    \"/Users/ataman/Downloads/soft_eng_data/20230817_170022_hn_sharings.json\",\n",
    "    \"/Users/ataman/Downloads/soft_eng_data/20230824_100450_pr_sharings.json\",\n",
    "    \"/Users/ataman/Downloads/soft_eng_data/20230824_101836_issue_sharings.json\",\n",
    "    \"/Users/ataman/Downloads/soft_eng_data/20230824_102000_discussion_sharings.json\",\n",
    "    \"/Users/ataman/Downloads/soft_eng_data/20230824_102435_commit_sharings.json\",\n",
    "    \"/Users/ataman/Downloads/soft_eng_data/20230824_111114_file_sharings.json\",\n",
    "    \"/Users/ataman/Downloads/soft_eng_data/20230824_112153_hn_sharings.json\",\n",
    "    \"/Users/ataman/Downloads/soft_eng_data/20230831_060603_pr_sharings.json\",\n",
    "    \"/Users/ataman/Downloads/soft_eng_data/20230831_061759_issue_sharings.json\",\n",
    "    \"/Users/ataman/Downloads/soft_eng_data/20230831_061926_discussion_sharings.json\",\n",
    "    \"/Users/ataman/Downloads/soft_eng_data/20230831_063412_commit_sharings.json\",\n",
    "    \"/Users/ataman/Downloads/soft_eng_data/20230831_072722_file_sharings.json\",\n",
    "    \"/Users/ataman/Downloads/soft_eng_data/20230831_073827_hn_sharings.json\"\n",
    "]\n",
    "\n",
    "\n",
    "\n"
   ]
  },
  {
   "cell_type": "code",
   "execution_count": 43,
   "metadata": {},
   "outputs": [],
   "source": [
    "\n",
    "\n",
    "\n",
    "def preprocess(text):\n",
    "    text = text.lower()\n",
    "    text = text.translate(str.maketrans('', '', string.punctuation))\n",
    "    text = re.sub(r'\\d+', '', text)\n",
    "    words = word_tokenize(text)\n",
    "    words = [word for word in words if word not in stopwords.words('english')]\n",
    "    stemmer = PorterStemmer()\n",
    "    words = [stemmer.stem(word) for word in words]\n",
    "    text = ' '.join(words)\n",
    "    return text\n"
   ]
  },
  {
   "cell_type": "code",
   "execution_count": 44,
   "metadata": {},
   "outputs": [
    {
     "name": "stdout",
     "output_type": "stream",
     "text": [
      "File exists: /Users/ataman/Downloads/soft_eng_data/20230727_195927_pr_sharings.json\n",
      "File exists: /Users/ataman/Downloads/soft_eng_data/20230727_195941_issue_sharings.json\n",
      "File exists: /Users/ataman/Downloads/soft_eng_data/20230727_195954_discussion_sharings.json\n",
      "File exists: /Users/ataman/Downloads/soft_eng_data/20230727_200003_commit_sharings.json\n",
      "File exists: /Users/ataman/Downloads/soft_eng_data/20230727_200102_file_sharings.json\n",
      "File exists: /Users/ataman/Downloads/soft_eng_data/20230727_195816_hn_sharings.json\n",
      "File exists: /Users/ataman/Downloads/soft_eng_data/20230803_093947_pr_sharings.json\n",
      "File exists: /Users/ataman/Downloads/soft_eng_data/20230803_094705_issue_sharings.json\n",
      "File exists: /Users/ataman/Downloads/soft_eng_data/20230803_094811_discussion_sharings.json\n",
      "File exists: /Users/ataman/Downloads/soft_eng_data/20230803_095317_commit_sharings.json\n",
      "File exists: /Users/ataman/Downloads/soft_eng_data/20230803_103605_file_sharings.json\n",
      "File exists: /Users/ataman/Downloads/soft_eng_data/20230803_105332_hn_sharings.json\n",
      "File exists: /Users/ataman/Downloads/soft_eng_data/20230810_123110_pr_sharings.json\n",
      "File exists: /Users/ataman/Downloads/soft_eng_data/20230810_123938_issue_sharings.json\n",
      "File exists: /Users/ataman/Downloads/soft_eng_data/20230810_124048_discussion_sharings.json\n",
      "File exists: /Users/ataman/Downloads/soft_eng_data/20230810_124807_commit_sharings.json\n",
      "File exists: /Users/ataman/Downloads/soft_eng_data/20230810_133121_file_sharings.json\n",
      "File exists: /Users/ataman/Downloads/soft_eng_data/20230810_134011_hn_sharings.json\n",
      "File exists: /Users/ataman/Downloads/soft_eng_data/20230817_125147_pr_sharings.json\n",
      "File exists: /Users/ataman/Downloads/soft_eng_data/20230817_130502_issue_sharings.json\n",
      "File exists: /Users/ataman/Downloads/soft_eng_data/20230817_130721_discussion_sharings.json\n",
      "File exists: /Users/ataman/Downloads/soft_eng_data/20230817_131244_commit_sharings.json\n",
      "File exists: /Users/ataman/Downloads/soft_eng_data/20230817_151344_file_sharings.json\n",
      "File exists: /Users/ataman/Downloads/soft_eng_data/20230817_170022_hn_sharings.json\n",
      "File exists: /Users/ataman/Downloads/soft_eng_data/20230824_100450_pr_sharings.json\n",
      "File exists: /Users/ataman/Downloads/soft_eng_data/20230824_101836_issue_sharings.json\n",
      "File exists: /Users/ataman/Downloads/soft_eng_data/20230824_102000_discussion_sharings.json\n",
      "File exists: /Users/ataman/Downloads/soft_eng_data/20230824_102435_commit_sharings.json\n",
      "File exists: /Users/ataman/Downloads/soft_eng_data/20230824_111114_file_sharings.json\n",
      "File exists: /Users/ataman/Downloads/soft_eng_data/20230824_112153_hn_sharings.json\n",
      "File exists: /Users/ataman/Downloads/soft_eng_data/20230831_060603_pr_sharings.json\n",
      "File exists: /Users/ataman/Downloads/soft_eng_data/20230831_061759_issue_sharings.json\n",
      "File exists: /Users/ataman/Downloads/soft_eng_data/20230831_061926_discussion_sharings.json\n",
      "File exists: /Users/ataman/Downloads/soft_eng_data/20230831_063412_commit_sharings.json\n",
      "File exists: /Users/ataman/Downloads/soft_eng_data/20230831_072722_file_sharings.json\n",
      "File exists: /Users/ataman/Downloads/soft_eng_data/20230831_073827_hn_sharings.json\n"
     ]
    }
   ],
   "source": [
    "import os\n",
    "\n",
    "for file_path in file_paths:\n",
    "    if not os.path.isfile(file_path):\n",
    "        print(f\"File not found: {file_path}\")\n",
    "    else:\n",
    "        print(f\"File exists: {file_path}\")\n"
   ]
  },
  {
   "cell_type": "code",
   "execution_count": 45,
   "metadata": {},
   "outputs": [],
   "source": [
    "\n",
    "all_conversations = []\n",
    "total_related_follow_ups = 0\n",
    "total_new_queries = 0\n",
    "\n",
    "\n",
    "for file_path in file_paths:\n",
    "    with open(file_path, 'r') as file:\n",
    "        data = json.load(file)['Sources']\n",
    "        for source in data:\n",
    "            for chatgpt_sharing in source.get('ChatgptSharing', []):\n",
    "                conversation = []\n",
    "                for interaction in chatgpt_sharing.get('Conversations', []):\n",
    "                    prompt = interaction.get('Prompt', '')\n",
    "                    answer = interaction.get('Answer', '')\n",
    "                    if prompt and answer:\n",
    "                        conversation.append({'prompt': prompt, 'answer': answer})\n",
    "                if conversation:\n",
    "                    all_conversations.append(conversation)\n"
   ]
  },
  {
   "cell_type": "code",
   "execution_count": 46,
   "metadata": {},
   "outputs": [],
   "source": [
    "\n",
    "vectorizer = TfidfVectorizer(preprocessor=preprocess)\n",
    "initial_prompts = [conversation[0]['prompt'] for conversation in all_conversations]\n",
    "initial_vectors = vectorizer.fit_transform(initial_prompts)\n"
   ]
  },
  {
   "cell_type": "code",
   "execution_count": 47,
   "metadata": {},
   "outputs": [],
   "source": [
    "\n",
    "for i, conversation in enumerate(all_conversations):\n",
    "    initial_vector = initial_vectors[i:i+1]  \n",
    "    follow_up_texts = [interaction['prompt'] for interaction in conversation[1:]]\n",
    "    related_follow_ups = 0\n",
    "    new_queries = 0\n",
    "    \n",
    "    if follow_up_texts:\n",
    "        follow_up_vectors = vectorizer.transform(follow_up_texts)\n",
    "        similarities = cosine_similarity(follow_up_vectors, initial_vector).flatten()\n",
    "\n",
    "        \n",
    "        threshold = 0.5\n",
    "        related_follow_ups = (similarities >= threshold).sum()\n",
    "        new_queries = (similarities < threshold).sum()\n",
    "\n",
    "        total_related_follow_ups += related_follow_ups\n",
    "        total_new_queries += new_queries\n",
    "\n",
    "   \n",
    "    conversation[0]['related_follow_ups'] = related_follow_ups\n",
    "    conversation[0]['new_queries'] = new_queries\n"
   ]
  },
  {
   "cell_type": "code",
   "execution_count": 48,
   "metadata": {},
   "outputs": [],
   "source": [
    "\n",
    "for conversation in all_conversations:\n",
    "    initial_prompt = conversation[0]['prompt']\n",
    "    analysis = TextBlob(initial_prompt)\n",
    "    sentiment = analysis.sentiment.polarity\n",
    "    subjectivity = analysis.sentiment.subjectivity\n",
    "    conversation[0]['sentiment'] = sentiment\n",
    "    conversation[0]['subjectivity'] = subjectivity\n"
   ]
  },
  {
   "cell_type": "code",
   "execution_count": 49,
   "metadata": {},
   "outputs": [],
   "source": [
    "\n",
    "data = {\n",
    "    'initial_query': [],\n",
    "    'sentiment': [],\n",
    "    'subjectivity': [],\n",
    "    'related_follow_ups': [],\n",
    "    'new_queries': []\n",
    "}\n",
    "\n",
    "for conversation in all_conversations:\n",
    "    data['initial_query'].append(conversation[0]['prompt'])\n",
    "    data['sentiment'].append(conversation[0]['sentiment'])\n",
    "    data['subjectivity'].append(conversation[0]['subjectivity'])\n",
    "    data['related_follow_ups'].append(conversation[0]['related_follow_ups'])\n",
    "    data['new_queries'].append(conversation[0]['new_queries'])\n",
    "\n",
    "df = pd.DataFrame(data)\n"
   ]
  },
  {
   "cell_type": "code",
   "execution_count": 50,
   "metadata": {},
   "outputs": [
    {
     "name": "stdout",
     "output_type": "stream",
     "text": [
      "Average Sentiment: 0.04124012616751602\n",
      "Average Subjectivity: 0.3129917763736981\n",
      "Average Number of Related Follow-Ups: 0.21982343499197432\n",
      "Average Number of New Queries: 5.6418138041733545\n"
     ]
    }
   ],
   "source": [
    "\n",
    "average_sentiment = df['sentiment'].mean()\n",
    "average_subjectivity = df['subjectivity'].mean()\n",
    "average_related_follow_ups = df['related_follow_ups'].mean()\n",
    "average_new_queries = df['new_queries'].mean()\n",
    "\n",
    "print(f\"Average Sentiment: {average_sentiment}\")\n",
    "print(f\"Average Subjectivity: {average_subjectivity}\")\n",
    "print(f\"Average Number of Related Follow-Ups: {average_related_follow_ups}\")\n",
    "print(f\"Average Number of New Queries: {average_new_queries}\")\n"
   ]
  },
  {
   "cell_type": "code",
   "execution_count": 51,
   "metadata": {},
   "outputs": [
    {
     "name": "stdout",
     "output_type": "stream",
     "text": [
      "Total Number of Related Follow-Ups: 2739\n",
      "Total Number of New Queries: 70297\n"
     ]
    }
   ],
   "source": [
    "print(f\"Total Number of Related Follow-Ups: {total_related_follow_ups}\")\n",
    "print(f\"Total Number of New Queries: {total_new_queries}\")"
   ]
  },
  {
   "cell_type": "code",
   "execution_count": 52,
   "metadata": {},
   "outputs": [
    {
     "name": "stdout",
     "output_type": "stream",
     "text": [
      "                             Metric      Value\n",
      "0                 Average Sentiment   0.041240\n",
      "1              Average Subjectivity   0.312992\n",
      "2  Percentage of Related Follow-Ups   3.750205\n",
      "3         Percentage of New Queries  96.249795\n"
     ]
    }
   ],
   "source": [
    "\n",
    "total_interactions = average_related_follow_ups + average_new_queries\n",
    "\n",
    "\n",
    "percentage_related_follow_ups = (average_related_follow_ups / total_interactions) * 100\n",
    "percentage_new_queries = (average_new_queries / total_interactions) * 100\n",
    "\n",
    "\n",
    "final_data = {\n",
    "    'Metric': [\n",
    "        'Average Sentiment', \n",
    "        'Average Subjectivity', \n",
    "        'Percentage of Related Follow-Ups', \n",
    "        'Percentage of New Queries'\n",
    "    ],\n",
    "    'Value': [\n",
    "        average_sentiment, \n",
    "        average_subjectivity, \n",
    "        percentage_related_follow_ups, \n",
    "        percentage_new_queries\n",
    "    ]\n",
    "}\n",
    "\n",
    "final_df = pd.DataFrame(final_data)\n",
    "\n",
    "# Display the DataFrame\n",
    "print(final_df)\n"
   ]
  },
  {
   "cell_type": "code",
   "execution_count": 1,
   "metadata": {},
   "outputs": [
    {
     "ename": "NameError",
     "evalue": "name 'df' is not defined",
     "output_type": "error",
     "traceback": [
      "\u001b[0;31m---------------------------------------------------------------------------\u001b[0m",
      "\u001b[0;31mNameError\u001b[0m                                 Traceback (most recent call last)",
      "\u001b[0;32m/var/folders/2d/hn8_9psx0sz8tn4fb2_kqg840000gn/T/ipykernel_1797/716996884.py\u001b[0m in \u001b[0;36m<module>\u001b[0;34m\u001b[0m\n\u001b[1;32m      1\u001b[0m \u001b[0;32mimport\u001b[0m \u001b[0mmatplotlib\u001b[0m\u001b[0;34m.\u001b[0m\u001b[0mpyplot\u001b[0m \u001b[0;32mas\u001b[0m \u001b[0mplt\u001b[0m\u001b[0;34m\u001b[0m\u001b[0;34m\u001b[0m\u001b[0m\n\u001b[0;32m----> 2\u001b[0;31m \u001b[0mtotal_related_follow_ups\u001b[0m \u001b[0;34m=\u001b[0m \u001b[0mdf\u001b[0m\u001b[0;34m[\u001b[0m\u001b[0;34m'related_follow_ups'\u001b[0m\u001b[0;34m]\u001b[0m\u001b[0;34m.\u001b[0m\u001b[0msum\u001b[0m\u001b[0;34m(\u001b[0m\u001b[0;34m)\u001b[0m\u001b[0;34m\u001b[0m\u001b[0;34m\u001b[0m\u001b[0m\n\u001b[0m\u001b[1;32m      3\u001b[0m \u001b[0mtotal_new_queries\u001b[0m \u001b[0;34m=\u001b[0m \u001b[0mdf\u001b[0m\u001b[0;34m[\u001b[0m\u001b[0;34m'new_queries'\u001b[0m\u001b[0;34m]\u001b[0m\u001b[0;34m.\u001b[0m\u001b[0msum\u001b[0m\u001b[0;34m(\u001b[0m\u001b[0;34m)\u001b[0m\u001b[0;34m\u001b[0m\u001b[0;34m\u001b[0m\u001b[0m\n\u001b[1;32m      4\u001b[0m \u001b[0mtotal_interactions\u001b[0m \u001b[0;34m=\u001b[0m \u001b[0mtotal_related_follow_ups\u001b[0m \u001b[0;34m+\u001b[0m \u001b[0mtotal_new_queries\u001b[0m\u001b[0;34m\u001b[0m\u001b[0;34m\u001b[0m\u001b[0m\n\u001b[1;32m      5\u001b[0m \u001b[0mpercentage_related_follow_ups\u001b[0m \u001b[0;34m=\u001b[0m \u001b[0;34m(\u001b[0m\u001b[0mtotal_related_follow_ups\u001b[0m \u001b[0;34m/\u001b[0m \u001b[0mtotal_interactions\u001b[0m\u001b[0;34m)\u001b[0m \u001b[0;34m*\u001b[0m \u001b[0;36m100\u001b[0m\u001b[0;34m\u001b[0m\u001b[0;34m\u001b[0m\u001b[0m\n",
      "\u001b[0;31mNameError\u001b[0m: name 'df' is not defined"
     ]
    }
   ],
   "source": [
    "import matplotlib.pyplot as plt\n",
    "total_related_follow_ups = df['related_follow_ups'].sum()\n",
    "total_new_queries = df['new_queries'].sum()\n",
    "total_interactions = total_related_follow_ups + total_new_queries\n",
    "percentage_related_follow_ups = (total_related_follow_ups / total_interactions) * 100\n",
    "percentage_new_queries = (total_new_queries / total_interactions) * 100\n",
    "\n",
    "labels = ['Related Follow-Ups', 'New Queries']\n",
    "sizes = [percentage_related_follow_ups, percentage_new_queries]\n",
    "colors = ['#ff9999', '#66b3ff']\n",
    "explode = (0.1, 0) \n",
    "\n",
    "plt.figure(figsize=(8, 8))\n",
    "plt.pie(sizes, explode=explode, labels=labels, colors=colors, autopct='%1.1f%%', startangle=140, shadow=True)\n",
    "plt.title('Proportion of Related Follow-Ups vs. New Queries')\n",
    "plt.show()\n"
   ]
  }
 ],
 "metadata": {
  "kernelspec": {
   "display_name": "Python 3.9.13 ('base')",
   "language": "python",
   "name": "python3"
  },
  "language_info": {
   "codemirror_mode": {
    "name": "ipython",
    "version": 3
   },
   "file_extension": ".py",
   "mimetype": "text/x-python",
   "name": "python",
   "nbconvert_exporter": "python",
   "pygments_lexer": "ipython3",
   "version": "3.9.13"
  },
  "vscode": {
   "interpreter": {
    "hash": "765cd670e4643c87a8e68de2f37b55fa4e86c08d81a5bb5fa8b851836ccf62ad"
   }
  }
 },
 "nbformat": 4,
 "nbformat_minor": 2
}
