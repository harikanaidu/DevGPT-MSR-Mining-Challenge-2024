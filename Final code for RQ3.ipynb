{
 "cells": [
  {
   "cell_type": "code",
   "execution_count": 1,
   "id": "7394f2fa",
   "metadata": {},
   "outputs": [],
   "source": [
    "import pandas as pd\n",
    "import numpy as np\n",
    "import os\n",
    "import json"
   ]
  },
  {
   "cell_type": "code",
   "execution_count": 2,
   "id": "aa5c8a88",
   "metadata": {},
   "outputs": [],
   "source": [
    "# Define the main directory where your data is located\n",
    "main_directory = r'D:\\DevGPT'\n",
    "\n",
    "# Create an empty DataFrame to store consolidated data\n",
    "consolidated_data = pd.DataFrame()\n",
    "\n",
    "# Iterate through each snapshot directory\n",
    "for snapshot_directory in os.listdir(main_directory):\n",
    "    snapshot_path = os.path.join(main_directory, snapshot_directory)\n",
    "\n",
    "    # Check if the path is a directory\n",
    "    if os.path.isdir(snapshot_path):\n",
    "        # List the JSON files in the snapshot directory\n",
    "        json_files = [f for f in os.listdir(snapshot_path) if f.endswith('.json')]\n",
    "\n",
    "        # Iterate through JSON files in the snapshot\n",
    "        for json_file in json_files:\n",
    "            json_file_path = os.path.join(snapshot_path, json_file)\n",
    "            \n",
    "            # Read and process the JSON data\n",
    "            with open(json_file_path, 'r') as file:\n",
    "                json_data = json.load(file)\n",
    "            \n",
    "            # Create a DataFrame from the JSON data\n",
    "            json_df = pd.DataFrame(json_data)\n",
    "            \n",
    "            # Concatenate the JSON DataFrame to the consolidated data\n",
    "            consolidated_data = pd.concat([consolidated_data, json_df])\n",
    "\n"
   ]
  },
  {
   "cell_type": "code",
   "execution_count": null,
   "id": "86c16d81",
   "metadata": {},
   "outputs": [],
   "source": []
  },
  {
   "cell_type": "code",
   "execution_count": 3,
   "id": "9a07f8fe",
   "metadata": {},
   "outputs": [
    {
     "data": {
      "text/plain": [
       "(85496,\n",
       " ['Write a training plan for a series of lessons to teach someone modern deep learning. The training plan should last for approximately 3 months of lessons.\\n\\nThe lesson plan is for a single student with a strong background in programming (systems programming, algorithms and web). But the student has little knowledge of python. And university level mathematics knowledge but relatively weak skills in linear algebra and probability and statistics.\\n\\nBy the end of the training process, the student should know modern deep learning methods and techniques and be able to modify, implement and deploy AI based systems.\\n\\nThink through your answer. Start by listing out learning objectives, then write a teaching plan to meet those learning objectives.',\n",
       "  \"nine hundred alda in meters.    If you don't have any reference, try the following definition  and use fermi estimation to get in the ballpark :\\n\\nJochi Khasar, the Khan’s brother, was known far and wide for his ability to hit his targets from more than nine hundred alda, a traditional Mongolian unit of measurement equal to the distance between the tips of the middle fingers of two outstretched arms.\",\n",
       "  \"I wouldn't have expected a fathom to be that unit. I always thought it was used for depths, so I figured it'd be some nautical definition\",\n",
       "  \"what's the world record furthest sniper shot?\",\n",
       "  \"Yeah, so Jochi Kasar got a very significant % of that with a mongolian bow? I'm mildly skeptical because that's very impressive for medieval-ish tech\"])"
      ]
     },
     "execution_count": 3,
     "metadata": {},
     "output_type": "execute_result"
    }
   ],
   "source": [
    "prompts = []\n",
    "answers = []\n",
    "prompt_answer_pairs = {}\n",
    "\n",
    "# Iterate through rows in the consolidated_data DataFrame\n",
    "for index, row in consolidated_data.iterrows():\n",
    "    # Extract the 'Sources' dictionary from the row\n",
    "    sources_dict = row['Sources']\n",
    "    \n",
    "    # Access the 'ChatgptSharing' key inside the 'Sources' dictionary\n",
    "    chatgpt_sharing_list = sources_dict.get('ChatgptSharing', [])\n",
    "    \n",
    "    # Iterate through the 'Conversations' inside 'ChatgptSharing'\n",
    "    for chatgpt_sharing in chatgpt_sharing_list:\n",
    "        for conversation in chatgpt_sharing.get('Conversations', []):\n",
    "            # Extract prompts and answers from the 'Conversations' dictionary\n",
    "            prompt = conversation.get('Prompt', '')\n",
    "            answer = conversation.get('Answer', '')\n",
    "            \n",
    "            # Check if both prompt and answer are non-empty\n",
    "            if prompt and answer:\n",
    "                prompts.append(prompt)\n",
    "                answers.append(answer)\n",
    "                prompt_answer_pairs[prompt] = answer\n",
    "\n",
    "len(prompts), prompts[:5]  # Show the number of prompts and the first 5 prompts for a preview\n"
   ]
  },
  {
   "cell_type": "code",
   "execution_count": null,
   "id": "142167fe",
   "metadata": {},
   "outputs": [],
   "source": [
    "\n"
   ]
  },
  {
   "cell_type": "code",
   "execution_count": null,
   "id": "ab4342d9",
   "metadata": {},
   "outputs": [],
   "source": []
  },
  {
   "cell_type": "code",
   "execution_count": 4,
   "id": "07070a39",
   "metadata": {},
   "outputs": [],
   "source": [
    "#Language Complexity Analysis:"
   ]
  },
  {
   "cell_type": "code",
   "execution_count": 5,
   "id": "aaa0aa98",
   "metadata": {
    "scrolled": true
   },
   "outputs": [
    {
     "name": "stdout",
     "output_type": "stream",
     "text": [
      "Average Language Complexity: 7.242318938897568\n"
     ]
    }
   ],
   "source": [
    "import textstat\n",
    "\n",
    "# Analyze language complexity using Flesch-Kincaid\n",
    "language_complexity_scores = [textstat.flesch_kincaid_grade(prompt) for prompt in prompts]\n",
    "\n",
    "# Print average language complexity score\n",
    "average_language_complexity = sum(language_complexity_scores) / len(language_complexity_scores)\n",
    "print(\"Average Language Complexity:\", average_language_complexity)\n"
   ]
  },
  {
   "cell_type": "code",
   "execution_count": null,
   "id": "8bbc3458",
   "metadata": {},
   "outputs": [],
   "source": []
  },
  {
   "cell_type": "code",
   "execution_count": null,
   "id": "df59c059",
   "metadata": {
    "scrolled": true
   },
   "outputs": [],
   "source": []
  },
  {
   "cell_type": "code",
   "execution_count": null,
   "id": "66abdf71",
   "metadata": {},
   "outputs": [],
   "source": []
  },
  {
   "cell_type": "code",
   "execution_count": null,
   "id": "9e26ea9d",
   "metadata": {},
   "outputs": [],
   "source": []
  },
  {
   "cell_type": "code",
   "execution_count": 6,
   "id": "ff8fd8e2",
   "metadata": {},
   "outputs": [],
   "source": [
    "def extract_transformer_features(text, max_length=1024):\n",
    "    # Tokenize the text\n",
    "    tokens = tokenizer(text, return_tensors='pt', truncation=True, max_length=max_length)\n",
    "    \n",
    "    # Ensure the tokenized input is not empty\n",
    "    if 'input_ids' in tokens and len(tokens['input_ids'][0]) > 0:\n",
    "        # Forward pass through the model\n",
    "        outputs = model(**tokens)\n",
    "        \n",
    "        # Extract the last hidden states and calculate the mean\n",
    "        last_hidden_states = outputs.last_hidden_state\n",
    "        avg_last_hidden_states = last_hidden_states.mean(dim=1).squeeze().detach().numpy()\n",
    "        return avg_last_hidden_states\n",
    "    else:\n",
    "        # Handle empty tokenized input\n",
    "        return np.zeros(model.config.hidden_size)\n"
   ]
  },
  {
   "cell_type": "code",
   "execution_count": 7,
   "id": "ede7267d",
   "metadata": {},
   "outputs": [],
   "source": [
    "from transformers import GPT2Tokenizer, GPT2Model\n",
    "import torch\n",
    "import numpy as np\n",
    "\n",
    "# Example using GPT-2 tokenizer and model (replace with your preferred transformer model)\n",
    "tokenizer = GPT2Tokenizer.from_pretrained('gpt2')\n",
    "model = GPT2Model.from_pretrained('gpt2')"
   ]
  },
  {
   "cell_type": "code",
   "execution_count": 8,
   "id": "215aa139",
   "metadata": {},
   "outputs": [],
   "source": [
    "# Example: Extract features for each prompt\n",
    "transformer_features = [extract_transformer_features(prompt) for prompt in prompts]\n",
    "transformer_features = np.array(transformer_features)\n"
   ]
  },
  {
   "cell_type": "code",
   "execution_count": 9,
   "id": "1e03e38f",
   "metadata": {},
   "outputs": [
    {
     "data": {
      "text/plain": [
       "array([[-1.2587640e-01,  7.1513459e-02, -1.1070192e+00, ...,\n",
       "         1.7822880e-01,  1.2592289e-01, -7.6670051e-02],\n",
       "       [-1.6064794e-01,  5.2665278e-02, -8.5838538e-01, ...,\n",
       "         2.2049937e-01, -2.4458979e-01, -3.5561580e-02],\n",
       "       [-1.4249656e-01, -2.3641640e-01, -2.9893440e-01, ...,\n",
       "        -2.6515029e-02, -2.5519263e-04,  8.7414905e-02],\n",
       "       ...,\n",
       "       [ 4.2092096e-02, -2.3145759e-01, -4.8710462e-01, ...,\n",
       "        -1.4670871e-01,  8.6598754e-02,  5.2430291e-02],\n",
       "       [-2.1928298e-01,  8.5009716e-02, -3.0175149e-01, ...,\n",
       "        -2.8210706e-01,  3.7364181e-02, -3.2246947e-02],\n",
       "       [ 1.7486441e-01,  4.2586278e-02, -1.3480718e-01, ...,\n",
       "        -1.4758535e-01,  8.4312804e-02,  3.3670199e-01]], dtype=float32)"
      ]
     },
     "execution_count": 9,
     "metadata": {},
     "output_type": "execute_result"
    }
   ],
   "source": [
    "transformer_features"
   ]
  },
  {
   "cell_type": "code",
   "execution_count": null,
   "id": "cc080762",
   "metadata": {},
   "outputs": [],
   "source": []
  },
  {
   "cell_type": "code",
   "execution_count": null,
   "id": "03a6c1c5",
   "metadata": {},
   "outputs": [],
   "source": []
  },
  {
   "cell_type": "code",
   "execution_count": null,
   "id": "a9dd3845",
   "metadata": {},
   "outputs": [],
   "source": []
  },
  {
   "cell_type": "code",
   "execution_count": null,
   "id": "7f1ea45b",
   "metadata": {},
   "outputs": [],
   "source": []
  },
  {
   "cell_type": "code",
   "execution_count": null,
   "id": "1933fa45",
   "metadata": {},
   "outputs": [],
   "source": []
  },
  {
   "cell_type": "code",
   "execution_count": null,
   "id": "c0ccefb8",
   "metadata": {},
   "outputs": [],
   "source": []
  },
  {
   "cell_type": "code",
   "execution_count": null,
   "id": "8ec3a002",
   "metadata": {},
   "outputs": [],
   "source": []
  },
  {
   "cell_type": "code",
   "execution_count": 10,
   "id": "4d0dfe73",
   "metadata": {},
   "outputs": [
    {
     "name": "stderr",
     "output_type": "stream",
     "text": [
      "Token indices sequence length is longer than the specified maximum sequence length for this model (1198 > 1024). Running this sequence through the model will result in indexing errors\n"
     ]
    },
    {
     "name": "stdout",
     "output_type": "stream",
     "text": [
      "Actual Lengths: [137, 94, 32, 10, 36]\n"
     ]
    }
   ],
   "source": [
    "# Calculate the length of each conversation (e.g., based on the number of tokens in prompts)\n",
    "actual_lengths = [len(tokenizer(prompt)['input_ids']) for prompt in prompts]\n",
    "\n",
    "# Print the first 5 lengths for a preview\n",
    "print(\"Actual Lengths:\", actual_lengths[:5])"
   ]
  },
  {
   "cell_type": "code",
   "execution_count": 12,
   "id": "aa1bb55e",
   "metadata": {},
   "outputs": [
    {
     "name": "stdout",
     "output_type": "stream",
     "text": [
      "Mean Squared Error: 6255.77172229077\n",
      "Mean Absolute Error: 8.387659187717423\n",
      "R-squared: 0.9840843193855419\n"
     ]
    },
    {
     "data": {
      "image/png": "[encoded data removed]",
      "text/plain": [
       "<Figure size 640x480 with 1 Axes>"
      ]
     },
     "metadata": {},
     "output_type": "display_data"
    }
   ],
   "source": [
    "from sklearn.model_selection import train_test_split\n",
    "from sklearn.ensemble import RandomForestRegressor\n",
    "from sklearn.metrics import mean_squared_error, mean_absolute_error\n",
    "import matplotlib.pyplot as plt\n",
    "from sklearn.metrics import r2_score\n",
    "\n",
    "\n",
    "# Step 1: Split data into training and testing sets\n",
    "X_train, X_test, y_train, y_test = train_test_split(transformer_features, actual_lengths, test_size=0.2, random_state=42)\n",
    "\n",
    "# Step 2: Train a linear regression model\n",
    "rf_model = RandomForestRegressor(n_estimators=113, max_depth=15, min_samples_split=2, min_samples_leaf=1, random_state=42)\n",
    "rf_model.fit(X_train, y_train)\n",
    "\n",
    "# Step 3: Predict conversation lengths on the testing set\n",
    "predictions = rf_model.predict(X_test)\n",
    "\n",
    "# Step 4: Evaluate the model\n",
    "mse = mean_squared_error(y_test, predictions)\n",
    "mae = mean_absolute_error(y_test, predictions)\n",
    "r2 = r2_score(y_test, predictions)\n",
    "\n",
    "print(\"Mean Squared Error:\", mse)\n",
    "print(\"Mean Absolute Error:\", mae)\n",
    "print(\"R-squared:\", r2)\n",
    "\n",
    "\n",
    "\n",
    "# Step 5: Visualize predicted vs. actual lengths\n",
    "plt.scatter(y_test, predictions)\n",
    "plt.xlabel(\"Actual Conversation Lengths\")\n",
    "plt.ylabel(\"Predicted Conversation Lengths\")\n",
    "plt.title(\"Actual vs. Predicted Conversation Lengths\")\n",
    "plt.show()\n"
   ]
  },
  {
   "cell_type": "code",
   "execution_count": 13,
   "id": "c11f812f",
   "metadata": {},
   "outputs": [
    {
     "data": {
      "image/png": "[encoded data removed]",
      "text/plain": [
       "<Figure size 640x480 with 1 Axes>"
      ]
     },
     "metadata": {},
     "output_type": "display_data"
    }
   ],
   "source": [
    "# Create residual plot\n",
    "residuals = y_test - predictions\n",
    "plt.scatter(y_test, residuals)\n",
    "plt.xlabel(\"Actual Conversation Lengths\")\n",
    "plt.ylabel(\"Residuals\")\n",
    "plt.title(\"Residual Plot\")\n",
    "plt.show()\n"
   ]
  },
  {
   "cell_type": "code",
   "execution_count": null,
   "id": "ce6c948e",
   "metadata": {},
   "outputs": [],
   "source": []
  },
  {
   "cell_type": "code",
   "execution_count": null,
   "id": "4a4762a4",
   "metadata": {},
   "outputs": [],
   "source": []
  },
  {
   "cell_type": "code",
   "execution_count": null,
   "id": "dcad5366",
   "metadata": {},
   "outputs": [],
   "source": []
  },
  {
   "cell_type": "code",
   "execution_count": null,
   "id": "2a31e653",
   "metadata": {},
   "outputs": [],
   "source": []
  },
  {
   "cell_type": "code",
   "execution_count": null,
   "id": "a5c77872",
   "metadata": {},
   "outputs": [],
   "source": []
  },
  {
   "cell_type": "code",
   "execution_count": null,
   "id": "4376c7b5",
   "metadata": {},
   "outputs": [],
   "source": [
    "\n"
   ]
  },
  {
   "cell_type": "code",
   "execution_count": null,
   "id": "b5a63783",
   "metadata": {},
   "outputs": [],
   "source": []
  },
  {
   "cell_type": "code",
   "execution_count": null,
   "id": "ba3e17e0",
   "metadata": {},
   "outputs": [],
   "source": []
  },
  {
   "cell_type": "code",
   "execution_count": null,
   "id": "0c0c10cd",
   "metadata": {},
   "outputs": [],
   "source": []
  },
  {
   "cell_type": "code",
   "execution_count": null,
   "id": "1f4718d8",
   "metadata": {},
   "outputs": [],
   "source": []
  }
 ],
 "metadata": {
  "kernelspec": {
   "display_name": "Python 3 (ipykernel)",
   "language": "python",
   "name": "python3"
  },
  "language_info": {
   "codemirror_mode": {
    "name": "ipython",
    "version": 3
   },
   "file_extension": ".py",
   "mimetype": "text/x-python",
   "name": "python",
   "nbconvert_exporter": "python",
   "pygments_lexer": "ipython3",
   "version": "3.9.13"
  }
 },
 "nbformat": 4,
 "nbformat_minor": 5
}
