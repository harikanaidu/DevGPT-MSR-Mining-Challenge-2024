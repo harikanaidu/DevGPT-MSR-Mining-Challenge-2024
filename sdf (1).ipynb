{
 "cells": [
  {
   "cell_type": "code",
   "execution_count": 1,
   "id": "7394f2fa",
   "metadata": {},
   "outputs": [],
   "source": [
    "import pandas as pd\n",
    "import numpy as np\n",
    "import os\n",
    "import json"
   ]
  },
  {
   "cell_type": "code",
   "execution_count": 2,
   "id": "86c16d81",
   "metadata": {},
   "outputs": [],
   "source": [
    "# Define the main directory where your data is located\n",
    "main_directory = r'D:\\DevGPT'\n",
    "\n",
    "# Create an empty DataFrame to store consolidated data\n",
    "consolidated_data = pd.DataFrame()\n",
    "\n",
    "# Iterate through each snapshot directory\n",
    "for snapshot_directory in os.listdir(main_directory):\n",
    "    snapshot_path = os.path.join(main_directory, snapshot_directory)\n",
    "\n",
    "    # Check if the path is a directory\n",
    "    if os.path.isdir(snapshot_path):\n",
    "        # List the JSON files in the snapshot directory\n",
    "        json_files = [f for f in os.listdir(snapshot_path) if f.endswith('.json')]\n",
    "\n",
    "        # Iterate through JSON files in the snapshot\n",
    "        for json_file in json_files:\n",
    "            json_file_path = os.path.join(snapshot_path, json_file)\n",
    "            \n",
    "            # Read and process the JSON data\n",
    "            with open(json_file_path, 'r') as file:\n",
    "                json_data = json.load(file)\n",
    "            \n",
    "            # Create a DataFrame from the JSON data\n",
    "            json_df = pd.DataFrame(json_data)\n",
    "            \n",
    "            # Concatenate the JSON DataFrame to the consolidated data\n",
    "            consolidated_data = pd.concat([consolidated_data, json_df])\n",
    "\n"
   ]
  },
  {
   "cell_type": "code",
   "execution_count": 3,
   "id": "9a07f8fe",
   "metadata": {},
   "outputs": [
    {
     "data": {
      "text/plain": [
       "(0, [])"
      ]
     },
     "execution_count": 3,
     "metadata": {},
     "output_type": "execute_result"
    }
   ],
   "source": [
    "prompts = []\n",
    "answers = []\n",
    "prompt_answer_pairs = {}\n",
    "\n",
    "# Iterate through rows in the consolidated_data DataFrame\n",
    "for index, row in consolidated_data.iterrows():\n",
    "    # Extract prompts and answers from the DataFrame\n",
    "    prompt = row.get('Prompt', '')\n",
    "    answer = row.get('Answer', '')\n",
    "    \n",
    "    # Check if both prompt and answer are non-empty\n",
    "    if prompt and answer:\n",
    "        prompts.append(prompt)\n",
    "        answers.append(answer)\n",
    "        prompt_answer_pairs[prompt] = answer\n",
    "\n",
    "len(prompts), prompts[:5]  # Show the number of prompts and the first 5 prompts for a preview\n"
   ]
  },
  {
   "cell_type": "code",
   "execution_count": 4,
   "id": "142167fe",
   "metadata": {},
   "outputs": [
    {
     "data": {
      "text/html": [
       "<div>\n",
       "<style scoped>\n",
       "    .dataframe tbody tr th:only-of-type {\n",
       "        vertical-align: middle;\n",
       "    }\n",
       "\n",
       "    .dataframe tbody tr th {\n",
       "        vertical-align: top;\n",
       "    }\n",
       "\n",
       "    .dataframe thead th {\n",
       "        text-align: right;\n",
       "    }\n",
       "</style>\n",
       "<table border=\"1\" class=\"dataframe\">\n",
       "  <thead>\n",
       "    <tr style=\"text-align: right;\">\n",
       "      <th></th>\n",
       "      <th>Sources</th>\n",
       "    </tr>\n",
       "  </thead>\n",
       "  <tbody>\n",
       "    <tr>\n",
       "      <th>0</th>\n",
       "      <td>{'Type': 'hacker news', 'ID': '36862850', 'URL...</td>\n",
       "    </tr>\n",
       "    <tr>\n",
       "      <th>1</th>\n",
       "      <td>{'Type': 'hacker news', 'ID': '36852545', 'URL...</td>\n",
       "    </tr>\n",
       "    <tr>\n",
       "      <th>2</th>\n",
       "      <td>{'Type': 'hacker news', 'ID': '36855516', 'URL...</td>\n",
       "    </tr>\n",
       "    <tr>\n",
       "      <th>3</th>\n",
       "      <td>{'Type': 'hacker news', 'ID': '36821808', 'URL...</td>\n",
       "    </tr>\n",
       "    <tr>\n",
       "      <th>4</th>\n",
       "      <td>{'Type': 'hacker news', 'ID': '36828409', 'URL...</td>\n",
       "    </tr>\n",
       "    <tr>\n",
       "      <th>...</th>\n",
       "      <td>...</td>\n",
       "    </tr>\n",
       "    <tr>\n",
       "      <th>190</th>\n",
       "      <td>{'Type': 'hacker news', 'ID': '36097321', 'URL...</td>\n",
       "    </tr>\n",
       "    <tr>\n",
       "      <th>191</th>\n",
       "      <td>{'Type': 'hacker news', 'ID': '36097900', 'URL...</td>\n",
       "    </tr>\n",
       "    <tr>\n",
       "      <th>192</th>\n",
       "      <td>{'Type': 'hacker news', 'ID': '36092767', 'URL...</td>\n",
       "    </tr>\n",
       "    <tr>\n",
       "      <th>193</th>\n",
       "      <td>{'Type': 'hacker news', 'ID': '36091388', 'URL...</td>\n",
       "    </tr>\n",
       "    <tr>\n",
       "      <th>194</th>\n",
       "      <td>{'Type': 'hacker news', 'ID': '36091892', 'URL...</td>\n",
       "    </tr>\n",
       "  </tbody>\n",
       "</table>\n",
       "<p>10666 rows × 1 columns</p>\n",
       "</div>"
      ],
      "text/plain": [
       "                                               Sources\n",
       "0    {'Type': 'hacker news', 'ID': '36862850', 'URL...\n",
       "1    {'Type': 'hacker news', 'ID': '36852545', 'URL...\n",
       "2    {'Type': 'hacker news', 'ID': '36855516', 'URL...\n",
       "3    {'Type': 'hacker news', 'ID': '36821808', 'URL...\n",
       "4    {'Type': 'hacker news', 'ID': '36828409', 'URL...\n",
       "..                                                 ...\n",
       "190  {'Type': 'hacker news', 'ID': '36097321', 'URL...\n",
       "191  {'Type': 'hacker news', 'ID': '36097900', 'URL...\n",
       "192  {'Type': 'hacker news', 'ID': '36092767', 'URL...\n",
       "193  {'Type': 'hacker news', 'ID': '36091388', 'URL...\n",
       "194  {'Type': 'hacker news', 'ID': '36091892', 'URL...\n",
       "\n",
       "[10666 rows x 1 columns]"
      ]
     },
     "execution_count": 4,
     "metadata": {},
     "output_type": "execute_result"
    }
   ],
   "source": [
    "consolidated_data"
   ]
  },
  {
   "cell_type": "code",
   "execution_count": 5,
   "id": "ab4342d9",
   "metadata": {},
   "outputs": [
    {
     "data": {
      "text/plain": [
       "(85496,\n",
       " ['Write a training plan for a series of lessons to teach someone modern deep learning. The training plan should last for approximately 3 months of lessons.\\n\\nThe lesson plan is for a single student with a strong background in programming (systems programming, algorithms and web). But the student has little knowledge of python. And university level mathematics knowledge but relatively weak skills in linear algebra and probability and statistics.\\n\\nBy the end of the training process, the student should know modern deep learning methods and techniques and be able to modify, implement and deploy AI based systems.\\n\\nThink through your answer. Start by listing out learning objectives, then write a teaching plan to meet those learning objectives.',\n",
       "  \"nine hundred alda in meters.    If you don't have any reference, try the following definition  and use fermi estimation to get in the ballpark :\\n\\nJochi Khasar, the Khan’s brother, was known far and wide for his ability to hit his targets from more than nine hundred alda, a traditional Mongolian unit of measurement equal to the distance between the tips of the middle fingers of two outstretched arms.\",\n",
       "  \"I wouldn't have expected a fathom to be that unit. I always thought it was used for depths, so I figured it'd be some nautical definition\",\n",
       "  \"what's the world record furthest sniper shot?\",\n",
       "  \"Yeah, so Jochi Kasar got a very significant % of that with a mongolian bow? I'm mildly skeptical because that's very impressive for medieval-ish tech\"])"
      ]
     },
     "execution_count": 5,
     "metadata": {},
     "output_type": "execute_result"
    }
   ],
   "source": [
    "prompts = []\n",
    "answers = []\n",
    "prompt_answer_pairs = {}\n",
    "\n",
    "# Iterate through rows in the consolidated_data DataFrame\n",
    "for index, row in consolidated_data.iterrows():\n",
    "    # Extract the 'Sources' dictionary from the row\n",
    "    sources_dict = row['Sources']\n",
    "    \n",
    "    # Access the 'ChatgptSharing' key inside the 'Sources' dictionary\n",
    "    chatgpt_sharing_list = sources_dict.get('ChatgptSharing', [])\n",
    "    \n",
    "    # Iterate through the 'Conversations' inside 'ChatgptSharing'\n",
    "    for chatgpt_sharing in chatgpt_sharing_list:\n",
    "        for conversation in chatgpt_sharing.get('Conversations', []):\n",
    "            # Extract prompts and answers from the 'Conversations' dictionary\n",
    "            prompt = conversation.get('Prompt', '')\n",
    "            answer = conversation.get('Answer', '')\n",
    "            \n",
    "            # Check if both prompt and answer are non-empty\n",
    "            if prompt and answer:\n",
    "                prompts.append(prompt)\n",
    "                answers.append(answer)\n",
    "                prompt_answer_pairs[prompt] = answer\n",
    "\n",
    "len(prompts), prompts[:5]  # Show the number of prompts and the first 5 prompts for a preview\n"
   ]
  },
  {
   "cell_type": "code",
   "execution_count": 6,
   "id": "07070a39",
   "metadata": {},
   "outputs": [],
   "source": [
    "#Language Complexity Analysis:"
   ]
  },
  {
   "cell_type": "code",
   "execution_count": 7,
   "id": "aaa0aa98",
   "metadata": {
    "scrolled": true
   },
   "outputs": [
    {
     "name": "stdout",
     "output_type": "stream",
     "text": [
      "Average Language Complexity: 7.242318938897568\n"
     ]
    }
   ],
   "source": [
    "import textstat\n",
    "\n",
    "# Analyze language complexity using Flesch-Kincaid\n",
    "language_complexity_scores = [textstat.flesch_kincaid_grade(prompt) for prompt in prompts]\n",
    "\n",
    "# Print average language complexity score\n",
    "average_language_complexity = sum(language_complexity_scores) / len(language_complexity_scores)\n",
    "print(\"Average Language Complexity:\", average_language_complexity)\n"
   ]
  },
  {
   "cell_type": "code",
   "execution_count": 8,
   "id": "8bbc3458",
   "metadata": {},
   "outputs": [],
   "source": [
    "\n",
    "#User Interactions Analysis:"
   ]
  },
  {
   "cell_type": "code",
   "execution_count": 9,
   "id": "df59c059",
   "metadata": {
    "scrolled": true
   },
   "outputs": [
    {
     "name": "stdout",
     "output_type": "stream",
     "text": [
      "Average Number of User Turns: 68.58702161504632\n",
      "Average User Sentiment: 0.2\n",
      "Average User Engagement: 0.6\n"
     ]
    }
   ],
   "source": [
    "# Extract relevant features or create them based on your data structure\n",
    "\n",
    "# Example: Number of user turns\n",
    "num_user_turns = [len(prompt.split()) for prompt in prompts]\n",
    "\n",
    "# Example: User sentiment (dummy values, replace with actual sentiment analysis)\n",
    "user_sentiment_scores = [0.7, -0.5, 0.9, 0.2, -0.3]  # Replace with actual sentiment scores\n",
    "\n",
    "# Example: User engagement signals (dummy values, replace with actual signals)\n",
    "user_engagement_signals = [1, 0, 1, 1, 0]  # Replace with actual engagement signals\n",
    "\n",
    "# Print average number of user turns, sentiment, and engagement\n",
    "average_user_turns = sum(num_user_turns) / len(num_user_turns)\n",
    "average_user_sentiment = sum(user_sentiment_scores) / len(user_sentiment_scores)\n",
    "average_user_engagement = sum(user_engagement_signals) / len(user_engagement_signals)\n",
    "\n",
    "print(\"Average Number of User Turns:\", average_user_turns)\n",
    "print(\"Average User Sentiment:\", average_user_sentiment)\n",
    "print(\"Average User Engagement:\", average_user_engagement)\n"
   ]
  },
  {
   "cell_type": "code",
   "execution_count": 10,
   "id": "66abdf71",
   "metadata": {},
   "outputs": [],
   "source": [
    "#Domain Specificity Analysis:"
   ]
  },
  {
   "cell_type": "code",
   "execution_count": 11,
   "id": "9e26ea9d",
   "metadata": {},
   "outputs": [
    {
     "name": "stdout",
     "output_type": "stream",
     "text": [
      "Average Domain Specific Feature: 0.6\n"
     ]
    }
   ],
   "source": [
    "# Assuming you have domain-specific features in your data\n",
    "# Extract relevant features or create them based on your data structure\n",
    "\n",
    "# Example: Domain-specific feature (dummy values, replace with actual domain features)\n",
    "domain_specific_features = [1, 0, 1, 1, 0]  # Replace with actual domain-specific features\n",
    "\n",
    "# Print average domain-specific feature\n",
    "average_domain_specific_feature = sum(domain_specific_features) / len(domain_specific_features)\n",
    "print(\"Average Domain Specific Feature:\", average_domain_specific_feature)\n"
   ]
  },
  {
   "cell_type": "code",
   "execution_count": 12,
   "id": "ff8fd8e2",
   "metadata": {},
   "outputs": [],
   "source": [
    "def extract_transformer_features(text, max_length=1024):\n",
    "    # Tokenize the text\n",
    "    tokens = tokenizer(text, return_tensors='pt', truncation=True, max_length=max_length)\n",
    "    \n",
    "    # Ensure the tokenized input is not empty\n",
    "    if 'input_ids' in tokens and len(tokens['input_ids'][0]) > 0:\n",
    "        # Forward pass through the model\n",
    "        outputs = model(**tokens)\n",
    "        \n",
    "        # Extract the last hidden states and calculate the mean\n",
    "        last_hidden_states = outputs.last_hidden_state\n",
    "        avg_last_hidden_states = last_hidden_states.mean(dim=1).squeeze().detach().numpy()\n",
    "        return avg_last_hidden_states\n",
    "    else:\n",
    "        # Handle empty tokenized input\n",
    "        return np.zeros(model.config.hidden_size)\n"
   ]
  },
  {
   "cell_type": "code",
   "execution_count": 13,
   "id": "ede7267d",
   "metadata": {},
   "outputs": [],
   "source": [
    "from transformers import GPT2Tokenizer, GPT2Model\n",
    "import torch\n",
    "import numpy as np\n",
    "\n",
    "# Example using GPT-2 tokenizer and model (replace with your preferred transformer model)\n",
    "tokenizer = GPT2Tokenizer.from_pretrained('gpt2')\n",
    "model = GPT2Model.from_pretrained('gpt2')"
   ]
  },
  {
   "cell_type": "code",
   "execution_count": 14,
   "id": "215aa139",
   "metadata": {},
   "outputs": [],
   "source": [
    "# Example: Extract features for each prompt\n",
    "transformer_features = [extract_transformer_features(prompt) for prompt in prompts]\n",
    "transformer_features = np.array(transformer_features)\n"
   ]
  },
  {
   "cell_type": "code",
   "execution_count": 15,
   "id": "1e03e38f",
   "metadata": {},
   "outputs": [
    {
     "data": {
      "text/plain": [
       "array([[-1.2587640e-01,  7.1513459e-02, -1.1070192e+00, ...,\n",
       "         1.7822880e-01,  1.2592289e-01, -7.6670051e-02],\n",
       "       [-1.6064794e-01,  5.2665278e-02, -8.5838538e-01, ...,\n",
       "         2.2049937e-01, -2.4458979e-01, -3.5561580e-02],\n",
       "       [-1.4249656e-01, -2.3641640e-01, -2.9893440e-01, ...,\n",
       "        -2.6515029e-02, -2.5519263e-04,  8.7414905e-02],\n",
       "       ...,\n",
       "       [ 4.2092096e-02, -2.3145759e-01, -4.8710462e-01, ...,\n",
       "        -1.4670871e-01,  8.6598754e-02,  5.2430291e-02],\n",
       "       [-2.1928298e-01,  8.5009716e-02, -3.0175149e-01, ...,\n",
       "        -2.8210706e-01,  3.7364181e-02, -3.2246947e-02],\n",
       "       [ 1.7486441e-01,  4.2586278e-02, -1.3480718e-01, ...,\n",
       "        -1.4758535e-01,  8.4312804e-02,  3.3670199e-01]], dtype=float32)"
      ]
     },
     "execution_count": 15,
     "metadata": {},
     "output_type": "execute_result"
    }
   ],
   "source": [
    "transformer_features"
   ]
  },
  {
   "cell_type": "code",
   "execution_count": null,
   "id": "617d711c",
   "metadata": {},
   "outputs": [],
   "source": []
  },
  {
   "cell_type": "code",
   "execution_count": null,
   "id": "dc1a3e83",
   "metadata": {},
   "outputs": [],
   "source": []
  },
  {
   "cell_type": "code",
   "execution_count": null,
   "id": "4eb5801d",
   "metadata": {},
   "outputs": [],
   "source": []
  },
  {
   "cell_type": "code",
   "execution_count": null,
   "id": "53fc0c08",
   "metadata": {},
   "outputs": [],
   "source": []
  },
  {
   "cell_type": "code",
   "execution_count": null,
   "id": "8797d4e4",
   "metadata": {},
   "outputs": [],
   "source": []
  },
  {
   "cell_type": "code",
   "execution_count": null,
   "id": "5c879529",
   "metadata": {},
   "outputs": [],
   "source": []
  },
  {
   "cell_type": "code",
   "execution_count": null,
   "id": "1dd4ba15",
   "metadata": {},
   "outputs": [],
   "source": []
  },
  {
   "cell_type": "code",
   "execution_count": 16,
   "id": "4d0dfe73",
   "metadata": {},
   "outputs": [
    {
     "name": "stderr",
     "output_type": "stream",
     "text": [
      "Token indices sequence length is longer than the specified maximum sequence length for this model (1198 > 1024). Running this sequence through the model will result in indexing errors\n"
     ]
    },
    {
     "name": "stdout",
     "output_type": "stream",
     "text": [
      "Actual Lengths: [137, 94, 32, 10, 36]\n"
     ]
    }
   ],
   "source": [
    "# Calculate the length of each conversation (e.g., based on the number of tokens in prompts)\n",
    "actual_lengths = [len(tokenizer(prompt)['input_ids']) for prompt in prompts]\n",
    "\n",
    "# Print the first 5 lengths for a preview\n",
    "print(\"Actual Lengths:\", actual_lengths[:5])"
   ]
  },
  {
   "cell_type": "code",
   "execution_count": 17,
   "id": "aa1bb55e",
   "metadata": {},
   "outputs": [
    {
     "name": "stdout",
     "output_type": "stream",
     "text": [
      "Mean Squared Error: 6255.77172229077\n",
      "Mean Absolute Error: 8.387659187717423\n"
     ]
    },
    {
     "data": {
      "image/png": "[encoded data removed]",
      "text/plain": [
       "<Figure size 640x480 with 1 Axes>"
      ]
     },
     "metadata": {},
     "output_type": "display_data"
    }
   ],
   "source": [
    "from sklearn.model_selection import train_test_split\n",
    "from sklearn.ensemble import RandomForestRegressor\n",
    "from sklearn.metrics import mean_squared_error, mean_absolute_error\n",
    "import matplotlib.pyplot as plt\n",
    "\n",
    "# Assuming you have actual_lengths and transformer_features\n",
    "\n",
    "# Step 1: Split data into training and testing sets\n",
    "X_train, X_test, y_train, y_test = train_test_split(transformer_features, actual_lengths, test_size=0.2, random_state=42)\n",
    "\n",
    "# Step 2: Train a linear regression model\n",
    "rf_model = RandomForestRegressor(n_estimators=100, random_state=42)\n",
    "rf_model.fit(X_train, y_train)\n",
    "\n",
    "# Step 3: Predict conversation lengths on the testing set\n",
    "predictions = rf_model.predict(X_test)\n",
    "\n",
    "# Step 4: Evaluate the model\n",
    "mse = mean_squared_error(y_test, predictions)\n",
    "mae = mean_absolute_error(y_test, predictions)\n",
    "\n",
    "print(\"Mean Squared Error:\", mse)\n",
    "print(\"Mean Absolute Error:\", mae)\n",
    "\n",
    "# Step 5: Visualize predicted vs. actual lengths\n",
    "plt.scatter(y_test, predictions)\n",
    "plt.xlabel(\"Actual Conversation Lengths\")\n",
    "plt.ylabel(\"Predicted Conversation Lengths\")\n",
    "plt.title(\"Actual vs. Predicted Conversation Lengths\")\n",
    "plt.show()\n"
   ]
  },
  {
   "cell_type": "code",
   "execution_count": 40,
   "id": "3ff04020",
   "metadata": {},
   "outputs": [
    {
     "data": {
      "text/plain": [
       "0.9816188039140639"
      ]
     },
     "execution_count": 40,
     "metadata": {},
     "output_type": "execute_result"
    }
   ],
   "source": [
    "r2 = r2_score(y_test, predictions)\n",
    "r2"
   ]
  },
  {
   "cell_type": "code",
   "execution_count": 19,
   "id": "1a4649a7",
   "metadata": {},
   "outputs": [],
   "source": [
    "from sklearn.feature_selection import SelectFromModel\n"
   ]
  },
  {
   "cell_type": "code",
   "execution_count": 22,
   "id": "4a4762a4",
   "metadata": {},
   "outputs": [
    {
     "name": "stdout",
     "output_type": "stream",
     "text": [
      "Mean Squared Error with Feature Selection: 20046.576784556666\n",
      "Mean Absolute Error with Feature Selection: 19.38681510048589\n"
     ]
    },
    {
     "data": {
      "image/png": "[encoded data removed]",
      "text/plain": [
       "<Figure size 640x480 with 1 Axes>"
      ]
     },
     "metadata": {},
     "output_type": "display_data"
    }
   ],
   "source": [
    "#feature selection Testing phase\n",
    "\n",
    "# Step 1: Split data into training and testing sets\n",
    "X_train, X_test, y_train, y_test = train_test_split(transformer_features, actual_lengths, test_size=0.2, random_state=42)\n",
    "\n",
    "# Step 2: Train a Random Forest Regressor model\n",
    "rf_model = RandomForestRegressor(n_estimators=100, random_state=42)\n",
    "rf_model.fit(X_train, y_train)\n",
    "\n",
    "# Step 3: Perform feature selection\n",
    "sfm = SelectFromModel(rf_model, threshold=0.3)  # You can adjust the threshold\n",
    "sfm.fit(X_train, y_train)\n",
    "X_train_selected = sfm.transform(X_train)\n",
    "X_test_selected = sfm.transform(X_test)\n",
    "\n",
    "# Step 4: Train a model on the selected features\n",
    "rf_model_selected = RandomForestRegressor(n_estimators=100, random_state=42)\n",
    "rf_model_selected.fit(X_train_selected, y_train)\n",
    "\n",
    "# Step 5: Predict conversation lengths on the testing set\n",
    "predictions_selected = rf_model_selected.predict(X_test_selected)\n",
    "\n",
    "# Step 6: Evaluate the model with selected features\n",
    "mse_selected = mean_squared_error(y_test, predictions_selected)\n",
    "mae_selected = mean_absolute_error(y_test, predictions_selected)\n",
    "\n",
    "print(\"Mean Squared Error with Feature Selection:\", mse_selected)\n",
    "print(\"Mean Absolute Error with Feature Selection:\", mae_selected)\n",
    "\n",
    "# Visualization: Visualize predicted vs. actual lengths\n",
    "plt.scatter(y_test, predictions_selected)\n",
    "plt.xlabel(\"Actual Conversation Lengths\")\n",
    "plt.ylabel(\"Predicted Conversation Lengths\")\n",
    "plt.title(\"Actual vs. Predicted Conversation Lengths with Feature Selection\")\n",
    "plt.show()\n"
   ]
  },
  {
   "cell_type": "code",
   "execution_count": 23,
   "id": "dcad5366",
   "metadata": {},
   "outputs": [
    {
     "name": "stdout",
     "output_type": "stream",
     "text": [
      "Best Hyperparameters: {'n_estimators': 116, 'min_samples_split': 5, 'min_samples_leaf': 1, 'max_depth': 20}\n",
      "Mean Squared Error: 7224.860154068646\n",
      "Mean Absolute Error: 12.702339654455734\n",
      "R-squared: 0.9816188039140639\n"
     ]
    },
    {
     "data": {
      "image/png": "[encoded data removed]",
      "text/plain": [
       "<Figure size 640x480 with 1 Axes>"
      ]
     },
     "metadata": {},
     "output_type": "display_data"
    }
   ],
   "source": [
    "from sklearn.model_selection import RandomizedSearchCV\n",
    "from sklearn.ensemble import RandomForestRegressor\n",
    "from sklearn.model_selection import train_test_split\n",
    "from sklearn.metrics import mean_squared_error, mean_absolute_error, r2_score\n",
    "import numpy as np\n",
    "import matplotlib.pyplot as plt\n",
    "\n",
    "# Assuming you have transformer_features and actual_lengths\n",
    "\n",
    "# Step 1: Split data into training and testing sets\n",
    "X_train, X_test, y_train, y_test = train_test_split(transformer_features, actual_lengths, test_size=0.2, random_state=42)\n",
    "\n",
    "# Step 2: Define the parameter distribution for random search\n",
    "param_dist = {\n",
    "    'n_estimators': [int(x) for x in np.linspace(start=50, stop=200, num=10)],\n",
    "    'max_depth': [None] + [int(x) for x in np.linspace(10, 50, num=5)],\n",
    "    'min_samples_split': [2, 5, 10, 20],\n",
    "    'min_samples_leaf': [1, 2, 4, 8]\n",
    "}\n",
    "\n",
    "# Step 3: Create a Random Forest Regressor\n",
    "rf_model = RandomForestRegressor(random_state=42)\n",
    "\n",
    "# Step 4: Perform random search\n",
    "random_search = RandomizedSearchCV(rf_model, param_distributions=param_dist, n_iter=10, cv=5, scoring='neg_mean_squared_error', n_jobs=-1, random_state=42)\n",
    "random_search.fit(X_train, y_train)\n",
    "\n",
    "# Step 5: Get the best hyperparameters\n",
    "best_params = random_search.best_params_\n",
    "print(\"Best Hyperparameters:\", best_params)\n",
    "\n",
    "# Step 6: Train a model with the best hyperparameters\n",
    "best_rf_model = RandomForestRegressor(**best_params, random_state=42)\n",
    "best_rf_model.fit(X_train, y_train)\n",
    "\n",
    "# Step 7: Predict conversation lengths on the testing set\n",
    "predictions = best_rf_model.predict(X_test)\n",
    "\n",
    "# Step 8: Evaluate the model\n",
    "mse = mean_squared_error(y_test, predictions)\n",
    "mae = mean_absolute_error(y_test, predictions)\n",
    "r2 = r2_score(y_test, predictions)\n",
    "\n",
    "print(\"Mean Squared Error:\", mse)\n",
    "print(\"Mean Absolute Error:\", mae)\n",
    "print(\"R-squared:\", r2)\n",
    "\n",
    "# Visualization: Visualize predicted vs. actual lengths\n",
    "plt.scatter(y_test, predictions)\n",
    "plt.xlabel(\"Actual Conversation Lengths\")\n",
    "plt.ylabel(\"Predicted Conversation Lengths\")\n",
    "plt.title(\"Actual vs. Predicted Conversation Lengths\")\n",
    "plt.show()\n"
   ]
  },
  {
   "cell_type": "code",
   "execution_count": null,
   "id": "2a31e653",
   "metadata": {},
   "outputs": [],
   "source": []
  },
  {
   "cell_type": "code",
   "execution_count": null,
   "id": "a5c77872",
   "metadata": {},
   "outputs": [],
   "source": []
  },
  {
   "cell_type": "code",
   "execution_count": null,
   "id": "4376c7b5",
   "metadata": {},
   "outputs": [],
   "source": [
    "\n"
   ]
  },
  {
   "cell_type": "code",
   "execution_count": null,
   "id": "b5a63783",
   "metadata": {},
   "outputs": [],
   "source": []
  },
  {
   "cell_type": "code",
   "execution_count": null,
   "id": "ba3e17e0",
   "metadata": {},
   "outputs": [],
   "source": []
  },
  {
   "cell_type": "code",
   "execution_count": null,
   "id": "a7352757",
   "metadata": {},
   "outputs": [],
   "source": []
  },
  {
   "cell_type": "code",
   "execution_count": null,
   "id": "3aef27ab",
   "metadata": {},
   "outputs": [],
   "source": []
  }
 ],
 "metadata": {
  "kernelspec": {
   "display_name": "Python 3 (ipykernel)",
   "language": "python",
   "name": "python3"
  },
  "language_info": {
   "codemirror_mode": {
    "name": "ipython",
    "version": 3
   },
   "file_extension": ".py",
   "mimetype": "text/x-python",
   "name": "python",
   "nbconvert_exporter": "python",
   "pygments_lexer": "ipython3",
   "version": "3.9.13"
  }
 },
 "nbformat": 4,
 "nbformat_minor": 5
}
